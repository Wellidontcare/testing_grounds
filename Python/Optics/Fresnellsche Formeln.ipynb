{
 "cells": [
  {
   "cell_type": "code",
   "execution_count": 1,
   "id": "be1d0001",
   "metadata": {},
   "outputs": [],
   "source": [
    "from sympy import *"
   ]
  },
  {
   "cell_type": "code",
   "execution_count": 42,
   "id": "9e4e466f",
   "metadata": {},
   "outputs": [],
   "source": [
    "a, b, n1, n2 , n21 = symbols(\"alpha beta n_1 n_2 n_21\", positive=True)\n",
    "u, v, w, = symbols(\"u, v, w\", positive=True)"
   ]
  },
  {
   "cell_type": "code",
   "execution_count": 128,
   "id": "b4a6d56d",
   "metadata": {},
   "outputs": [
    {
     "data": {
      "text/latex": [
       "$\\displaystyle t_{s} = \\frac{2 n_{1} \\cos{\\left(\\alpha \\right)}}{n_{1} \\cos{\\left(\\alpha \\right)} + \\sqrt{- n_{1}^{2} \\sin^{2}{\\left(\\alpha \\right)} + n_{2}^{2}}}$"
      ],
      "text/plain": [
       "Eq(t_s, 2*n_1*cos(alpha)/(n_1*cos(alpha) + sqrt(-n_1**2*sin(alpha)**2 + n_2**2)))"
      ]
     },
     "metadata": {},
     "output_type": "display_data"
    },
    {
     "data": {
      "text/latex": [
       "$\\displaystyle r_{s} = \\frac{n_{1} \\cos{\\left(\\alpha \\right)} - \\sqrt{- n_{1}^{2} \\sin^{2}{\\left(\\alpha \\right)} + n_{2}^{2}}}{n_{1} \\cos{\\left(\\alpha \\right)} + \\sqrt{- n_{1}^{2} \\sin^{2}{\\left(\\alpha \\right)} + n_{2}^{2}}}$"
      ],
      "text/plain": [
       "Eq(r_s, (n_1*cos(alpha) - sqrt(-n_1**2*sin(alpha)**2 + n_2**2))/(n_1*cos(alpha) + sqrt(-n_1**2*sin(alpha)**2 + n_2**2)))"
      ]
     },
     "metadata": {},
     "output_type": "display_data"
    },
    {
     "data": {
      "text/latex": [
       "$\\displaystyle t_{p} = \\frac{2 n_{1} n_{2} \\cos{\\left(\\alpha \\right)}}{n_{1} \\sqrt{- n_{1}^{2} \\sin^{2}{\\left(\\alpha \\right)} + n_{2}^{2}} + n_{2}^{2} \\cos{\\left(\\alpha \\right)}}$"
      ],
      "text/plain": [
       "Eq(t_p, 2*n_1*n_2*cos(alpha)/(n_1*sqrt(-n_1**2*sin(alpha)**2 + n_2**2) + n_2**2*cos(alpha)))"
      ]
     },
     "metadata": {},
     "output_type": "display_data"
    },
    {
     "data": {
      "text/latex": [
       "$\\displaystyle r_{p} = \\frac{- n_{1} \\sqrt{- n_{1}^{2} \\sin^{2}{\\left(\\alpha \\right)} + n_{2}^{2}} + n_{2}^{2} \\cos{\\left(\\alpha \\right)}}{n_{1} \\sqrt{- n_{1}^{2} \\sin^{2}{\\left(\\alpha \\right)} + n_{2}^{2}} + n_{2}^{2} \\cos{\\left(\\alpha \\right)}}$"
      ],
      "text/plain": [
       "Eq(r_p, (-n_1*sqrt(-n_1**2*sin(alpha)**2 + n_2**2) + n_2**2*cos(alpha))/(n_1*sqrt(-n_1**2*sin(alpha)**2 + n_2**2) + n_2**2*cos(alpha)))"
      ]
     },
     "metadata": {},
     "output_type": "display_data"
    }
   ],
   "source": [
    "# Fresnellsche Formeln\n",
    "# n1*sin(a) = n2*sin(b) - Brechungsgesetz\n",
    "b = asin((n1*sin(a)) / n2) # Brechungsgesetz nach beta\n",
    "t_s = (2*n1 * cos(a))/((n1 * cos(a)) + (n2*cos(b)))\n",
    "r_s = ((n1*cos(a)) - (n2*cos(b)))/((n1*cos(a)) + (n2*cos(b)))\n",
    "\n",
    "t_p = ((2*n1 * cos(a)))/((n2 * cos(a)) + (n1*cos(b)))\n",
    "r_p = ((n2*cos(a)) - (n1*cos(b)))/((n2*cos(a)) + (n1*cos(b)))\n",
    "display(Eq(S(\"t_s\"), simplify(t_s)))\n",
    "display(Eq(S(\"r_s\"), simplify(r_s)))\n",
    "display(Eq(S(\"t_p\"), simplify(t_p)))\n",
    "display(Eq(S(\"r_p\"), simplify(r_p)))\n"
   ]
  },
  {
   "cell_type": "code",
   "execution_count": 131,
   "id": "d1188371",
   "metadata": {},
   "outputs": [
    {
     "data": {
      "text/latex": [
       "$\\displaystyle \\rho_{p} = \\frac{\\left(n_{1} \\cos{\\left(\\alpha \\right)} - \\sqrt{- n_{1}^{2} \\sin^{2}{\\left(\\alpha \\right)} + n_{2}^{2}}\\right)^{2}}{\\left(n_{1} \\cos{\\left(\\alpha \\right)} + \\sqrt{- n_{1}^{2} \\sin^{2}{\\left(\\alpha \\right)} + n_{2}^{2}}\\right)^{2}}$"
      ],
      "text/plain": [
       "Eq(rho_p, (n_1*cos(alpha) - sqrt(-n_1**2*sin(alpha)**2 + n_2**2))**2/(n_1*cos(alpha) + sqrt(-n_1**2*sin(alpha)**2 + n_2**2))**2)"
      ]
     },
     "metadata": {},
     "output_type": "display_data"
    },
    {
     "data": {
      "text/latex": [
       "$\\displaystyle \\tau_{p} = \\frac{4 n_{1} \\sqrt{- n_{1}^{2} \\sin^{2}{\\left(\\alpha \\right)} + n_{2}^{2}} \\cos{\\left(\\alpha \\right)}}{\\left(n_{1} \\cos{\\left(\\alpha \\right)} + \\sqrt{- n_{1}^{2} \\sin^{2}{\\left(\\alpha \\right)} + n_{2}^{2}}\\right)^{2}}$"
      ],
      "text/plain": [
       "Eq(tau_p, 4*n_1*sqrt(-n_1**2*sin(alpha)**2 + n_2**2)*cos(alpha)/(n_1*cos(alpha) + sqrt(-n_1**2*sin(alpha)**2 + n_2**2))**2)"
      ]
     },
     "metadata": {},
     "output_type": "display_data"
    },
    {
     "data": {
      "text/latex": [
       "$\\displaystyle \\rho_{s} = \\frac{\\left(n_{1} \\sqrt{- n_{1}^{2} \\sin^{2}{\\left(\\alpha \\right)} + n_{2}^{2}} - n_{2}^{2} \\cos{\\left(\\alpha \\right)}\\right)^{2}}{\\left(n_{1} \\sqrt{- n_{1}^{2} \\sin^{2}{\\left(\\alpha \\right)} + n_{2}^{2}} + n_{2}^{2} \\cos{\\left(\\alpha \\right)}\\right)^{2}}$"
      ],
      "text/plain": [
       "Eq(rho_s, (n_1*sqrt(-n_1**2*sin(alpha)**2 + n_2**2) - n_2**2*cos(alpha))**2/(n_1*sqrt(-n_1**2*sin(alpha)**2 + n_2**2) + n_2**2*cos(alpha))**2)"
      ]
     },
     "metadata": {},
     "output_type": "display_data"
    },
    {
     "data": {
      "text/latex": [
       "$\\displaystyle \\tau_{s} = \\frac{4 n_{1} n_{2}^{2} \\sqrt{- n_{1}^{2} \\sin^{2}{\\left(\\alpha \\right)} + n_{2}^{2}} \\cos{\\left(\\alpha \\right)}}{\\left(n_{1} \\sqrt{- n_{1}^{2} \\sin^{2}{\\left(\\alpha \\right)} + n_{2}^{2}} + n_{2}^{2} \\cos{\\left(\\alpha \\right)}\\right)^{2}}$"
      ],
      "text/plain": [
       "Eq(tau_s, 4*n_1*n_2**2*sqrt(-n_1**2*sin(alpha)**2 + n_2**2)*cos(alpha)/(n_1*sqrt(-n_1**2*sin(alpha)**2 + n_2**2) + n_2**2*cos(alpha))**2)"
      ]
     },
     "metadata": {},
     "output_type": "display_data"
    }
   ],
   "source": [
    "# Refelxions und Transmissiongrade\n",
    "\n",
    "\n",
    "rho_s = r_s**2\n",
    "tau_s = ((n2*cos(b))/(n1*cos(a)))*t_s**2\n",
    "\n",
    "rho_p = r_p**2\n",
    "tau_p = ((n2*cos(b))/(n1*cos(a)))*t_p**2\n",
    "\n",
    "\n",
    "display(Eq(S(\"rho_p\"), simplify(rho_s)))\n",
    "display(Eq(S(\"tau_p\"), simplify(tau_s)))\n",
    "display(Eq(S(\"rho_s\"), simplify(rho_p)))\n",
    "display(Eq(S(\"tau_s\"), simplify(tau_p)))\n",
    "\n",
    "\n",
    "# Zeige (rho_s + tau_s) = (rho_p + tau_p) = 1"
   ]
  },
  {
   "cell_type": "code",
   "execution_count": 136,
   "id": "4cf1d1e2",
   "metadata": {},
   "outputs": [
    {
     "data": {
      "text/latex": [
       "$\\displaystyle \\frac{4 n_{1} n_{2} \\sqrt{- \\frac{n_{1}^{2} \\sin^{2}{\\left(\\alpha \\right)}}{n_{2}^{2}} + 1} \\cos{\\left(\\alpha \\right)}}{\\left(n_{1} \\cos{\\left(\\alpha \\right)} + n_{2} \\sqrt{- \\frac{n_{1}^{2} \\sin^{2}{\\left(\\alpha \\right)}}{n_{2}^{2}} + 1}\\right)^{2}} + \\frac{\\left(n_{1} \\cos{\\left(\\alpha \\right)} - n_{2} \\sqrt{- \\frac{n_{1}^{2} \\sin^{2}{\\left(\\alpha \\right)}}{n_{2}^{2}} + 1}\\right)^{2}}{\\left(n_{1} \\cos{\\left(\\alpha \\right)} + n_{2} \\sqrt{- \\frac{n_{1}^{2} \\sin^{2}{\\left(\\alpha \\right)}}{n_{2}^{2}} + 1}\\right)^{2}} = 1$"
      ],
      "text/plain": [
       "Eq(4*n_1*n_2*sqrt(-n_1**2*sin(alpha)**2/n_2**2 + 1)*cos(alpha)/(n_1*cos(alpha) + n_2*sqrt(-n_1**2*sin(alpha)**2/n_2**2 + 1))**2 + (n_1*cos(alpha) - n_2*sqrt(-n_1**2*sin(alpha)**2/n_2**2 + 1))**2/(n_1*cos(alpha) + n_2*sqrt(-n_1**2*sin(alpha)**2/n_2**2 + 1))**2, 1)"
      ]
     },
     "metadata": {},
     "output_type": "display_data"
    },
    {
     "data": {
      "text/latex": [
       "$\\displaystyle \\frac{4 n_{1} n_{2} \\sqrt{- \\frac{n_{1}^{2} \\sin^{2}{\\left(\\alpha \\right)}}{n_{2}^{2}} + 1} \\cos{\\left(\\alpha \\right)}}{\\left(n_{1} \\sqrt{- \\frac{n_{1}^{2} \\sin^{2}{\\left(\\alpha \\right)}}{n_{2}^{2}} + 1} + n_{2} \\cos{\\left(\\alpha \\right)}\\right)^{2}} + \\frac{\\left(- n_{1} \\sqrt{- \\frac{n_{1}^{2} \\sin^{2}{\\left(\\alpha \\right)}}{n_{2}^{2}} + 1} + n_{2} \\cos{\\left(\\alpha \\right)}\\right)^{2}}{\\left(n_{1} \\sqrt{- \\frac{n_{1}^{2} \\sin^{2}{\\left(\\alpha \\right)}}{n_{2}^{2}} + 1} + n_{2} \\cos{\\left(\\alpha \\right)}\\right)^{2}} = 1$"
      ],
      "text/plain": [
       "Eq(4*n_1*n_2*sqrt(-n_1**2*sin(alpha)**2/n_2**2 + 1)*cos(alpha)/(n_1*sqrt(-n_1**2*sin(alpha)**2/n_2**2 + 1) + n_2*cos(alpha))**2 + (-n_1*sqrt(-n_1**2*sin(alpha)**2/n_2**2 + 1) + n_2*cos(alpha))**2/(n_1*sqrt(-n_1**2*sin(alpha)**2/n_2**2 + 1) + n_2*cos(alpha))**2, 1)"
      ]
     },
     "metadata": {},
     "output_type": "display_data"
    }
   ],
   "source": [
    "display(Eq(rho_s + tau_s, simplify(rho_s + tau_s)))\n",
    "display(Eq(rho_p + tau_p, simplify(rho_p + tau_p)))"
   ]
  },
  {
   "cell_type": "code",
   "execution_count": 121,
   "id": "68bf4909",
   "metadata": {},
   "outputs": [],
   "source": [
    "# Bestätigung\n",
    "t1, b1 = fraction(simplify((rho_s + tau_s).args[0]))\n",
    "t2, b2 = fraction(simplify((rho_s + tau_s).args[1]))"
   ]
  },
  {
   "cell_type": "code",
   "execution_count": 122,
   "id": "f84f9af7",
   "metadata": {},
   "outputs": [
    {
     "data": {
      "text/latex": [
       "$\\displaystyle - 2 n_{1}^{2} \\sin^{2}{\\left(\\alpha \\right)} + n_{1}^{2} + 2 n_{1} \\sqrt{- n_{1}^{2} \\sin^{2}{\\left(\\alpha \\right)} + n_{2}^{2}} \\cos{\\left(\\alpha \\right)} + n_{2}^{2}$"
      ],
      "text/plain": [
       "-2*n_1**2*sin(alpha)**2 + n_1**2 + 2*n_1*sqrt(-n_1**2*sin(alpha)**2 + n_2**2)*cos(alpha) + n_2**2"
      ]
     },
     "metadata": {},
     "output_type": "display_data"
    },
    {
     "data": {
      "text/latex": [
       "$\\displaystyle - n_{1}^{2} \\sin^{2}{\\left(\\alpha \\right)} + n_{1}^{2} \\cos^{2}{\\left(\\alpha \\right)} + 2 n_{1} \\sqrt{- n_{1}^{2} \\sin^{2}{\\left(\\alpha \\right)} + n_{2}^{2}} \\cos{\\left(\\alpha \\right)} + n_{2}^{2}$"
      ],
      "text/plain": [
       "-n_1**2*sin(alpha)**2 + n_1**2*cos(alpha)**2 + 2*n_1*sqrt(-n_1**2*sin(alpha)**2 + n_2**2)*cos(alpha) + n_2**2"
      ]
     },
     "metadata": {},
     "output_type": "display_data"
    }
   ],
   "source": [
    "display(simplify(t1 + t2))\n",
    "display(expand(b2))"
   ]
  },
  {
   "cell_type": "code",
   "execution_count": 123,
   "id": "4524b693",
   "metadata": {},
   "outputs": [
    {
     "data": {
      "text/latex": [
       "$\\displaystyle - 2 n_{1}^{2} \\sin^{2}{\\left(\\alpha \\right)} + n_{1}^{2} + 2 n_{1} \\sqrt{- n_{1}^{2} \\sin^{2}{\\left(\\alpha \\right)} + n_{2}^{2}} \\cos{\\left(\\alpha \\right)} + n_{2}^{2}$"
      ],
      "text/plain": [
       "-2*n_1**2*sin(alpha)**2 + n_1**2 + 2*n_1*sqrt(-n_1**2*sin(alpha)**2 + n_2**2)*cos(alpha) + n_2**2"
      ]
     },
     "metadata": {},
     "output_type": "display_data"
    },
    {
     "data": {
      "text/latex": [
       "$\\displaystyle - 2 n_{1}^{2} \\sin^{2}{\\left(\\alpha \\right)} + n_{1}^{2} + 2 n_{1} \\sqrt{- n_{1}^{2} \\sin^{2}{\\left(\\alpha \\right)} + n_{2}^{2}} \\cos{\\left(\\alpha \\right)} + n_{2}^{2}$"
      ],
      "text/plain": [
       "-2*n_1**2*sin(alpha)**2 + n_1**2 + 2*n_1*sqrt(-n_1**2*sin(alpha)**2 + n_2**2)*cos(alpha) + n_2**2"
      ]
     },
     "metadata": {},
     "output_type": "display_data"
    }
   ],
   "source": [
    "display(simplify(expand(t1 + t2)))\n",
    "display(simplify(expand(b2)))"
   ]
  },
  {
   "cell_type": "code",
   "execution_count": 124,
   "id": "b58c067d",
   "metadata": {},
   "outputs": [],
   "source": [
    "# -> Energieerhaltung kein Übergang von Energie zwischen Parallel\n",
    "# und Senkrechter Polarisiation beim Übergang von Medium mit Brechzahl n1 nach Medium mit Brechzahl n2"
   ]
  },
  {
   "cell_type": "code",
   "execution_count": null,
   "id": "c65c89da",
   "metadata": {},
   "outputs": [],
   "source": []
  }
 ],
 "metadata": {
  "kernelspec": {
   "display_name": "Python 3 (ipykernel)",
   "language": "python",
   "name": "python3"
  },
  "language_info": {
   "codemirror_mode": {
    "name": "ipython",
    "version": 3
   },
   "file_extension": ".py",
   "mimetype": "text/x-python",
   "name": "python",
   "nbconvert_exporter": "python",
   "pygments_lexer": "ipython3",
   "version": "3.9.7"
  }
 },
 "nbformat": 4,
 "nbformat_minor": 5
}
