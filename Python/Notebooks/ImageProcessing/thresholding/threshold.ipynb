{
 "cells": [
  {
   "cell_type": "code",
   "execution_count": 1,
   "metadata": {},
   "outputs": [],
   "source": [
    "import numpy as np\n",
    "import cv2\n",
    "import IPython.display as dsp\n",
    "import ipywidgets as widgets\n",
    "from skimage import io\n",
    "import matplotlib.pyplot as plt\n",
    "import threading"
   ]
  },
  {
   "cell_type": "code",
   "execution_count": 5,
   "metadata": {
    "scrolled": false
   },
   "outputs": [
    {
     "data": {
      "application/vnd.jupyter.widget-view+json": {
       "model_id": "d5ea21b977bd4ce7accee0582a289f5e",
       "version_major": 2,
       "version_minor": 0
      },
      "text/plain": [
       "VBox(children=(Label(value='Info'), FileUpload(value={}, description='Upload'), IntSlider(value=127, max=254),…"
      ]
     },
     "metadata": {},
     "output_type": "display_data"
    }
   ],
   "source": [
    "%matplotlib notebook\n",
    "class thresholder():\n",
    "    def __init__(self):\n",
    "        self.image_path = ''\n",
    "        self.image = None\n",
    "        self.message = widgets.Label(value = 'Info')\n",
    "        self.uploader = widgets.FileUpload()\n",
    "        self.uploader.observe(self.set_file_path, names='value')\n",
    "        self.slider = widgets.IntSlider(127, 0, 254, 1)\n",
    "        self.slider.observe(self.apply_threshold, names='value')\n",
    "        self.close_window = widgets.Button(description='Close imageview')\n",
    "        self.close_window.on_click(lambda x: (cv2.destroyAllWindows, cv2.waitKey(1)))\n",
    "        self.out = widgets.Output()\n",
    "        self.box = widgets.VBox([self.message, self.uploader, self.slider, self.close_window])\n",
    "        dsp.display(self.box)\n",
    "    \n",
    "    def apply_threshold(self, change):\n",
    "        value = change['new']\n",
    "        if self.image is None:\n",
    "            if self.image_path == '':\n",
    "                self.message.value = 'Please upload an image!'\n",
    "        else:\n",
    "            _, thresholded = cv2.threshold(self.resized, value, 255, cv2.THRESH_TOZERO)\n",
    "            #self.ax.imshow(thresholded, vmin=0, vmax=255, cmap='gray')\n",
    "            #io.imshow(thresholded,vmin=0, vmax=255)\n",
    "            cv2.imshow('image', thresholded)\n",
    "            cv2.waitKey(1)\n",
    "\n",
    "\n",
    "    def set_file_path(self, change):\n",
    "        for val in change['new']:\n",
    "            self.image_path = val\n",
    "            with open(val, 'wb') as file:\n",
    "                file.write(change['new'][val]['content'])\n",
    "        self.message.value = 'Image has been uploaded!'\n",
    "        self.image = cv2.imread(self.image_path, cv2.IMREAD_GRAYSCALE)\n",
    "        w, h = self.image.shape\n",
    "        scaling = 1000 / w\n",
    "        w, h = int(w*scaling), int(h * scaling)\n",
    "        self.resized = cv2.resize(self.image, (w, h))\n",
    "        cv2.imshow('image', self.resized)\n",
    "        cv2.waitKey(1)\n",
    "\n",
    "t = thresholder()"
   ]
  }
 ],
 "metadata": {
  "kernelspec": {
   "display_name": "Python 3",
   "language": "python",
   "name": "python3"
  },
  "language_info": {
   "codemirror_mode": {
    "name": "ipython",
    "version": 3
   },
   "file_extension": ".py",
   "mimetype": "text/x-python",
   "name": "python",
   "nbconvert_exporter": "python",
   "pygments_lexer": "ipython3",
   "version": "3.8.5"
  }
 },
 "nbformat": 4,
 "nbformat_minor": 4
}
