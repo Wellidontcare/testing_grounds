{
 "cells": [
  {
   "cell_type": "code",
   "execution_count": 1,
   "metadata": {},
   "outputs": [
    {
     "ename": "ModuleNotFoundError",
     "evalue": "No module named 'skimage'",
     "output_type": "error",
     "traceback": [
      "\u001b[0;31m---------------------------------------------------------------------------\u001b[0m",
      "\u001b[0;31mModuleNotFoundError\u001b[0m                       Traceback (most recent call last)",
      "\u001b[0;32m/tmp/ipykernel_637678/3215385326.py\u001b[0m in \u001b[0;36m<module>\u001b[0;34m\u001b[0m\n\u001b[0;32m----> 1\u001b[0;31m \u001b[0;32mfrom\u001b[0m \u001b[0mskimage\u001b[0m \u001b[0;32mimport\u001b[0m \u001b[0mdata\u001b[0m\u001b[0;34m\u001b[0m\u001b[0;34m\u001b[0m\u001b[0m\n\u001b[0m\u001b[1;32m      2\u001b[0m \u001b[0;32mimport\u001b[0m \u001b[0mnapari\u001b[0m\u001b[0;34m\u001b[0m\u001b[0;34m\u001b[0m\u001b[0m\n\u001b[1;32m      3\u001b[0m \u001b[0;32mfrom\u001b[0m \u001b[0mtyping_extensions\u001b[0m \u001b[0;32mimport\u001b[0m \u001b[0mAnnotated\u001b[0m\u001b[0;34m\u001b[0m\u001b[0;34m\u001b[0m\u001b[0m\n\u001b[1;32m      4\u001b[0m \u001b[0;32mimport\u001b[0m \u001b[0mcv2\u001b[0m\u001b[0;34m\u001b[0m\u001b[0;34m\u001b[0m\u001b[0m\n\u001b[1;32m      5\u001b[0m \u001b[0mget_ipython\u001b[0m\u001b[0;34m(\u001b[0m\u001b[0;34m)\u001b[0m\u001b[0;34m.\u001b[0m\u001b[0mrun_line_magic\u001b[0m\u001b[0;34m(\u001b[0m\u001b[0;34m'gui'\u001b[0m\u001b[0;34m,\u001b[0m \u001b[0;34m'qt'\u001b[0m\u001b[0;34m)\u001b[0m\u001b[0;34m\u001b[0m\u001b[0;34m\u001b[0m\u001b[0m\n",
      "\u001b[0;31mModuleNotFoundError\u001b[0m: No module named 'skimage'"
     ]
    }
   ],
   "source": [
    "from skimage import data\n",
    "import napari\n",
    "from typing_extensions import Annotated\n",
    "import cv2\n",
    "%gui qt"
   ]
  },
  {
   "cell_type": "code",
   "execution_count": 5,
   "metadata": {},
   "outputs": [
    {
     "data": {
      "text/plain": [
       "<napari._qt.widgets.qt_viewer_dock_widget.QtViewerDockWidget at 0x7f77b7afeaf0>"
      ]
     },
     "execution_count": 5,
     "metadata": {},
     "output_type": "execute_result"
    }
   ],
   "source": [
    "def threshold_image(layer: napari.layers.Image, threshold: Annotated[int, {\"widget_type\" : \"IntSlider\", \"min\" : 0, \"max\" : 255}] = 255) -> napari.types.ImageData:\n",
    "    if layer:\n",
    "        _, thresholded = cv2.threshold(layer.data, threshold, 255, cv2.THRESH_TOZERO)\n",
    "        return thresholded\n",
    "    \n",
    "def connected_components(layer: napari.layers.Image, viewer: napari.Viewer):\n",
    "    if layer:\n",
    "        _, labels, stats, centroids = cv2.connectedComponentsWithStats(layer.data)\n",
    "        if 'Coin Labels' in viewer.layers:\n",
    "            viewer.layers.remove('Coin Labels')\n",
    "            viewer.layers.remove('Centroids')\n",
    "        centroids[:, [0, 1]] = centroids[:, [1, 0]]\n",
    "        centroids = centroids[1:]\n",
    "        coin_areas = stats[:, cv2.CC_STAT_AREA]\n",
    "        area = {'area' : coin_areas}\n",
    "        viewer.add_labels(labels, name='Coin Labels', properties=area)\n",
    "        viewer.add_points(centroids, ndim=2, name='Centroids', face_color='red', size=2)\n",
    "\n",
    "def refine(layer: napari.layers.Image, viewer: napari.Viewer, closing_element_size: Annotated[int, {\"widget_type\" : \"SpinBox\", \"min\" : 1, \"max\" : 10}] = 3, opening_element_size: Annotated[int, {\"widget_type\" : \"SpinBox\"}] = 3) -> napari.types.ImageData:\n",
    "    c = closing_element_size\n",
    "    o = opening_element_size\n",
    "    if layer:\n",
    "        opened = cv2.morphologyEx(layer.data, cv2.MORPH_OPEN, cv2.getStructuringElement(cv2.MORPH_ELLIPSE, (o, o)))\n",
    "        closed = cv2.morphologyEx(opened, cv2.MORPH_CLOSE, cv2.getStructuringElement(cv2.MORPH_ELLIPSE, (c, c)))\n",
    "x data.coins()[50:-50, 50:-50]\n",
    "viewer = napari.Viewer()\n",
    "viewer.show()\n",
    "viewer.theme = 'light'\n",
    "viewer.add_image(image, rgb=False, name='coins')\n",
    "viewer.window.add_function_widget(name=\"Threshold\", function=threshold_image, area='bottom', magic_kwargs={'auto_call' : True})\n",
    "viewer.window.add_function_widget(name=\"Closing\", function=refine, area='bottom', magic_kwargs={'call_button' : 'Refine segmentation'})\n",
    "viewer.window.add_function_widget(name=\"Label\", function=connected_components, area='bottom', magic_kwargs={'call_button' : 'Label image'})"
   ]
  }
 ],
 "metadata": {
  "kernelspec": {
   "display_name": "Python 3 (ipykernel)",
   "language": "python",
   "name": "python3"
  },
  "language_info": {
   "codemirror_mode": {
    "name": "ipython",
    "version": 3
   },
   "file_extension": ".py",
   "mimetype": "text/x-python",
   "name": "python",
   "nbconvert_exporter": "python",
   "pygments_lexer": "ipython3",
   "version": "3.9.7"
  }
 },
 "nbformat": 4,
 "nbformat_minor": 4
}
