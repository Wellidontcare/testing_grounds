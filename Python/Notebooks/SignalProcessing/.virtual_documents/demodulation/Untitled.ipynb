get_ipython().run_line_magic("matplotlib", " widget")
get_ipython().run_line_magic("pylab", " --no-import-all")
import scipy as sci
from scipy import signal as sig

def fm_demodulate_atan(I: np.ndarray, Q: np.ndarray):
    inst_freq = np.zeros_like(I)
    for n in range(len(I)):
        inst_freq[n] = np.angle((I[n] + 1j*Q[n])*(I[n-1] - 1j*Q[n-1]))
    return inst_freq
    


get_ipython().run_line_magic("matplotlib", " widget")
t = np.linspace(-np.pi, np.pi, 1001)
dx = t[1] - t[0]
#message = np.exp(2*np.pi*t*100*1j)
#sign = np.exp(2*np.pi*t*1j + message)
message = np.sin(2*np.pi*t*10)
sign = np.sin(2*np.pi*t + message)
I = np.sin(2*np.pi*t + message + np.pi/2)
Q = sign
I_dt = sig.lfilter([1, -1], [1, 0], I)
Q_dt = sig.lfilter([1, -1], [1, 0], Q)
disdata = (I*Q_dt-Q*I_dt)/(I**2+Q**2)

demod = fm_demodulate_atan(Y, X)
plt.plot(message)
plt.plot(demod)
plt.plot(disdata)
plt.grid(True)
#plt.plot(sign)
#plt.plot(sign2)
#plt.plot(message)
# 519 531
# 507
#plt.plot(np.abs(np.fft.fftshift(np.fft.fft(wave))))
plt.legend(['cos', 'phase'])
plt.figure(2)
plt.plot(np.abs(np.fft.fftshift(np.fft.fft(demod))))
plt.plot(np.abs(np.fft.fftshift(np.fft.fft(message))))
plt.legend(['demodulated', 'original message'])
