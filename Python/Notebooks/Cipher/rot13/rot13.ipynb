{
 "cells": [
  {
   "cell_type": "code",
   "execution_count": 17,
   "metadata": {
    "lines_to_next_cell": 1
   },
   "outputs": [],
   "source": [
    "import string\n",
    "def rot13(message: str, key: str):\n",
    "    alphabet = string.ascii_lowercase\n",
    "    decrypted = ''.join(alphabet[((ord(message_char) - 97) - ord(key_char) - 97) % 26] for message_char, key_char in zip(message, key))"
   ]
  },
  {
   "cell_type": "code",
   "execution_count": 29,
   "metadata": {},
   "outputs": [
    {
     "name": "stdout",
     "output_type": "stream",
     "text": [
      "4.54 µs ± 57.5 ns per loop (mean ± std. dev. of 7 runs, 1000000 loops each)\n"
     ]
    }
   ],
   "source": [
    "%timeit -n 100 rot13('llkjmlmpadkkc', 'thisisalilkey')"
   ]
  },
  {
   "cell_type": "code",
   "execution_count": 30,
   "metadata": {},
   "outputs": [
    {
     "name": "stdout",
     "output_type": "stream",
     "text": [
      "4.38 µs ± 33.8 ns per loop (mean ± std. dev. of 7 runs, 1000000 loops each)\n"
     ]
    }
   ],
   "source": [
    "def slow_rot13(crypt: str, key: str):\n",
    "    solution = []\n",
    "    result = \"\"\n",
    "\n",
    "    for c, k in zip(crypt, key):\n",
    "        c = ord(c) - 97\n",
    "        k = ord(k) - 97\n",
    "        d = (c - k) % 26\n",
    "        solution.append(chr(d + 97))\n",
    "    decrypted = ''.join(solution)\n",
    "\n",
    "%timeit -n 100 slow_rot13(\"llkjmlmpadkkc\", \"thisisalilkey\")"
   ]
  }
 ],
 "metadata": {
  "kernelspec": {
   "display_name": "Python 3",
   "language": "python",
   "name": "python3"
  },
  "language_info": {
   "codemirror_mode": {
    "name": "ipython",
    "version": 3
   },
   "file_extension": ".py",
   "mimetype": "text/x-python",
   "name": "python",
   "nbconvert_exporter": "python",
   "pygments_lexer": "ipython3",
   "version": "3.8.5"
  }
 },
 "nbformat": 4,
 "nbformat_minor": 4
}
