{
 "cells": [
  {
   "cell_type": "code",
   "execution_count": 61,
   "id": "265d3e35",
   "metadata": {},
   "outputs": [],
   "source": [
    "import sympy as sp\n",
    "import numpy as np"
   ]
  },
  {
   "cell_type": "code",
   "execution_count": 20,
   "id": "9d756380",
   "metadata": {},
   "outputs": [],
   "source": [
    "x, u = sp.symbols('x, u')"
   ]
  },
  {
   "cell_type": "code",
   "execution_count": 48,
   "id": "6b823f67",
   "metadata": {},
   "outputs": [],
   "source": [
    "f = 3**x - 3**(0.5*(x+4)) + 20"
   ]
  },
  {
   "cell_type": "code",
   "execution_count": 49,
   "id": "16f7449e",
   "metadata": {},
   "outputs": [],
   "source": [
    "u_s = 3**(0.5*x)\n",
    "f_sub = f.factor().subs(u_s, u).simplify()"
   ]
  },
  {
   "cell_type": "code",
   "execution_count": 60,
   "id": "6b90e5b6",
   "metadata": {},
   "outputs": [
    {
     "data": {
      "text/latex": [
       "$\\displaystyle 4.0$"
      ],
      "text/plain": [
       "4.00000000000000"
      ]
     },
     "metadata": {},
     "output_type": "display_data"
    }
   ],
   "source": [
    "u1, u2 = sp.solve(f_sub, u)\n",
    "display(u1)"
   ]
  },
  {
   "cell_type": "code",
   "execution_count": 58,
   "id": "e6eb3f76",
   "metadata": {},
   "outputs": [],
   "source": [
    "x1 = sp.solve(sp.Eq(u1, u_s), x)[0]\n",
    "x2 = sp.solve(sp.Eq(u1, u_s), x)[0]"
   ]
  },
  {
   "cell_type": "code",
   "execution_count": 67,
   "id": "53d190d7",
   "metadata": {},
   "outputs": [
    {
     "name": "stdout",
     "output_type": "stream",
     "text": [
      "2.5237190142858296759698077948996797204017639160156 2.52371901428583\n"
     ]
    }
   ],
   "source": [
    "print(sp.N(x1, 50), x2.simplify())"
   ]
  },
  {
   "cell_type": "code",
   "execution_count": 62,
   "id": "4fc15136",
   "metadata": {},
   "outputs": [
    {
     "data": {
      "text/plain": [
       "2.5237190142858297"
      ]
     },
     "execution_count": 62,
     "metadata": {},
     "output_type": "execute_result"
    }
   ],
   "source": []
  },
  {
   "cell_type": "code",
   "execution_count": null,
   "id": "dc2c14c3",
   "metadata": {},
   "outputs": [],
   "source": []
  }
 ],
 "metadata": {
  "kernelspec": {
   "display_name": "Python 3 (ipykernel)",
   "language": "python",
   "name": "python3"
  },
  "language_info": {
   "codemirror_mode": {
    "name": "ipython",
    "version": 3
   },
   "file_extension": ".py",
   "mimetype": "text/x-python",
   "name": "python",
   "nbconvert_exporter": "python",
   "pygments_lexer": "ipython3",
   "version": "3.9.7"
  }
 },
 "nbformat": 4,
 "nbformat_minor": 5
}
