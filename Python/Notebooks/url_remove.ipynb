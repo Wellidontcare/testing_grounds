{
 "cells": [
  {
   "cell_type": "code",
   "execution_count": 14,
   "id": "still-stuart",
   "metadata": {},
   "outputs": [],
   "source": [
    "import requests\n",
    "import regex"
   ]
  },
  {
   "cell_type": "code",
   "execution_count": 26,
   "id": "fifth-tackle",
   "metadata": {},
   "outputs": [],
   "source": [
    "text = \"\"\"Google [The Google Page](https://google.com/xyz/\"\"\""
   ]
  },
  {
   "cell_type": "code",
   "execution_count": 27,
   "id": "protective-wyoming",
   "metadata": {
    "scrolled": true
   },
   "outputs": [
    {
     "name": "stdout",
     "output_type": "stream",
     "text": [
      "['(https://teams.microsoft.com/l/meetup-join/19%3ameeting_YjY2ZTU4ZTQtYWU0Yy00NWIyLTgwOWEtMTdmOTYxOGRlNjhl%40thread.v2/0?context=%7b%22Tid%22%3a%22dd29478d-624e-429e-b453-fffc969ac768%22%2c%22Oid%22%3a%2228f69230-81a7-4123-bc92-a191a2c87eca%22%7d)']\n"
     ]
    }
   ],
   "source": [
    "matches = regex.findall(\"\"\"\\(https?:\\/\\/.*\\)\"\"\", text)\n",
    "print(matches)"
   ]
  },
  {
   "cell_type": "code",
   "execution_count": 31,
   "id": "personalized-empire",
   "metadata": {},
   "outputs": [],
   "source": [
    "for match in matches:\n",
    "    text = text.replace(match, \"\")"
   ]
  },
  {
   "cell_type": "code",
   "execution_count": 32,
   "id": "demographic-albuquerque",
   "metadata": {},
   "outputs": [
    {
     "name": "stdout",
     "output_type": "stream",
     "text": [
      "Ricoh Seminar [Join conversation]\n"
     ]
    }
   ],
   "source": [
    "print(text)"
   ]
  }
 ],
 "metadata": {
  "kernelspec": {
   "display_name": "Python 3 (ipykernel)",
   "language": "python",
   "name": "python3"
  },
  "language_info": {
   "codemirror_mode": {
    "name": "ipython",
    "version": 3
   },
   "file_extension": ".py",
   "mimetype": "text/x-python",
   "name": "python",
   "nbconvert_exporter": "python",
   "pygments_lexer": "ipython3",
   "version": "3.9.7"
  }
 },
 "nbformat": 4,
 "nbformat_minor": 5
}
