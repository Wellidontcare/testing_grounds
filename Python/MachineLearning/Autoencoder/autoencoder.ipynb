{
 "cells": [
  {
   "cell_type": "code",
   "execution_count": 1,
   "id": "1cee846e-cd4b-44ea-94c3-fbcca762549b",
   "metadata": {},
   "outputs": [
    {
     "name": "stderr",
     "output_type": "stream",
     "text": [
      "/home/joris/.local/lib/python3.10/site-packages/torchvision/io/image.py:13: UserWarning: Failed to load image Python extension: /home/joris/.local/lib/python3.10/site-packages/torchvision/image.so: undefined symbol: _ZN3c105ErrorC2ENS_14SourceLocationESs\n",
      "  warn(f\"Failed to load image Python extension: {e}\")\n"
     ]
    }
   ],
   "source": [
    "import torch\n",
    "from torchvision import datasets\n",
    "from torchvision import transforms\n",
    "import matplotlib.pyplot as plt\n",
    "import numpy as np"
   ]
  },
  {
   "cell_type": "code",
   "execution_count": 2,
   "id": "fd52d6e8-9f9a-4f25-902e-709a85c90b93",
   "metadata": {},
   "outputs": [
    {
     "name": "stdout",
     "output_type": "stream",
     "text": [
      "True\n"
     ]
    }
   ],
   "source": [
    "print(torch.cuda.is_available())\n",
    "class AutoEncoder(torch.nn.Module):\n",
    "    def __init__(self):\n",
    "        super().__init__()\n",
    "        self.device = torch.device(\"cpu\")\n",
    "        self.encoder = torch.nn.Sequential(\n",
    "            torch.nn.Conv2d(1, 64, kernel_size=3, padding='same', device=self.device),\n",
    "            torch.nn.ReLU(True),\n",
    "            torch.nn.MaxPool2d(2),\n",
    "            torch.nn.Conv2d(64, 32, kernel_size=3, padding='same', device=self.device),\n",
    "            torch.nn.ReLU(True),\n",
    "            torch.nn.MaxPool2d(2),\n",
    "            torch.nn.Conv2d(32, 16, kernel_size=3, padding='same', device=self.device),\n",
    "            torch.nn.ReLU(True),\n",
    "            torch.nn.MaxPool2d(2)\n",
    "        )\n",
    "        \n",
    "        self.decoder = torch.nn.Sequential(\n",
    "           torch.nn.Conv2d(16, 32, (3, 3), padding='same', device=self.device),\n",
    "           torch.nn.ReLU(True),\n",
    "           torch.nn.Upsample(size=(7, 7)),\n",
    "           torch.nn.Conv2d(32, 64, (3, 3), padding='same', device=self.device),\n",
    "           torch.nn.ReLU(True),\n",
    "           torch.nn.Upsample(size=(14, 14)),\n",
    "           torch.nn.Conv2d(64, 1, (3, 3), padding='same', device=self.device),\n",
    "           torch.nn.ReLU(True),\n",
    "           torch.nn.Upsample(size=(28, 28))\n",
    "       )\n",
    "            \n",
    "        self.optimizer = torch.optim.SGD(self.parameters(), lr=1e-2)\n",
    "        self.loss = torch.nn.MSELoss()\n",
    "    \n",
    "    def forward(self, x):\n",
    "        y = self.encoder(x)\n",
    "        y = self.decoder(y)\n",
    "        return y"
   ]
  },
  {
   "cell_type": "code",
   "execution_count": 3,
   "id": "66df7361-0673-4546-83c0-ec79e202d8cd",
   "metadata": {},
   "outputs": [],
   "source": [
    "def train_encoder(encoder, x):\n",
    "    pred = encoder.forward(x)\n",
    "    loss = encoder.loss(pred, x)\n",
    "    encoder.optimizer.zero_grad()\n",
    "    loss.backward()\n",
    "    encoder.optimizer.step()\n",
    "    l = float(loss)\n",
    "    return l"
   ]
  },
  {
   "cell_type": "code",
   "execution_count": 4,
   "id": "b5b42c2d-da5a-4972-a0d0-257111cbdd62",
   "metadata": {},
   "outputs": [],
   "source": [
    "data = datasets.FashionMNIST(\"Fashion\", download=True, transform=transforms.ToTensor())"
   ]
  },
  {
   "cell_type": "code",
   "execution_count": 5,
   "id": "0e086808-ab9d-4b04-a99e-3da0c73139d8",
   "metadata": {},
   "outputs": [
    {
     "data": {
      "text/plain": [
       "AutoEncoder(\n",
       "  (encoder): Sequential(\n",
       "    (0): Conv2d(1, 64, kernel_size=(3, 3), stride=(1, 1), padding=same)\n",
       "    (1): ReLU(inplace=True)\n",
       "    (2): MaxPool2d(kernel_size=2, stride=2, padding=0, dilation=1, ceil_mode=False)\n",
       "    (3): Conv2d(64, 32, kernel_size=(3, 3), stride=(1, 1), padding=same)\n",
       "    (4): ReLU(inplace=True)\n",
       "    (5): MaxPool2d(kernel_size=2, stride=2, padding=0, dilation=1, ceil_mode=False)\n",
       "    (6): Conv2d(32, 16, kernel_size=(3, 3), stride=(1, 1), padding=same)\n",
       "    (7): ReLU(inplace=True)\n",
       "    (8): MaxPool2d(kernel_size=2, stride=2, padding=0, dilation=1, ceil_mode=False)\n",
       "  )\n",
       "  (decoder): Sequential(\n",
       "    (0): Conv2d(16, 32, kernel_size=(3, 3), stride=(1, 1), padding=same)\n",
       "    (1): ReLU(inplace=True)\n",
       "    (2): Upsample(size=(7, 7), mode=nearest)\n",
       "    (3): Conv2d(32, 64, kernel_size=(3, 3), stride=(1, 1), padding=same)\n",
       "    (4): ReLU(inplace=True)\n",
       "    (5): Upsample(size=(14, 14), mode=nearest)\n",
       "    (6): Conv2d(64, 1, kernel_size=(3, 3), stride=(1, 1), padding=same)\n",
       "    (7): ReLU(inplace=True)\n",
       "    (8): Upsample(size=(28, 28), mode=nearest)\n",
       "  )\n",
       "  (loss): MSELoss()\n",
       ")"
      ]
     },
     "execution_count": 5,
     "metadata": {},
     "output_type": "execute_result"
    }
   ],
   "source": [
    "auto_encoder = AutoEncoder()\n",
    "auto_encoder"
   ]
  },
  {
   "cell_type": "code",
   "execution_count": 6,
   "id": "c4d39b99-9fad-41dd-8d1b-1fc53def23c0",
   "metadata": {},
   "outputs": [],
   "source": [
    "loaded = torch.utils.data.DataLoader(data, batch_size=2048, shuffle=True)"
   ]
  },
  {
   "cell_type": "code",
   "execution_count": 11,
   "id": "7fbd71b2-1965-4ac3-a72d-0586955f05bd",
   "metadata": {},
   "outputs": [
    {
     "name": "stdout",
     "output_type": "stream",
     "text": [
      "Training Batch 900 / 100\n",
      "Training Batch 901 / 99\n",
      "Training Batch 902 / 98\n",
      "Training Batch 903 / 97\n",
      "Training Batch 904 / 96\n",
      "Training Batch 905 / 95\n",
      "Training Batch 906 / 94\n",
      "Training Batch 907 / 93\n",
      "Training Batch 908 / 92\n",
      "Training Batch 909 / 91\n",
      "Training Batch 910 / 90\n",
      "Training Batch 911 / 89\n",
      "Training Batch 912 / 88\n",
      "Training Batch 913 / 87\n",
      "Training Batch 914 / 86\n",
      "Training Batch 915 / 85\n",
      "Training Batch 916 / 84\n",
      "Training Batch 917 / 83\n",
      "Training Batch 918 / 82\n",
      "Training Batch 919 / 81\n",
      "Training Batch 920 / 80\n",
      "Training Batch 921 / 79\n",
      "Training Batch 922 / 78\n",
      "Training Batch 923 / 77\n",
      "Training Batch 924 / 76\n",
      "Training Batch 925 / 75\n",
      "Training Batch 926 / 74\n",
      "Training Batch 927 / 73\n",
      "Training Batch 928 / 72\n",
      "Training Batch 929 / 71\n"
     ]
    },
    {
     "data": {
      "text/plain": [
       "<matplotlib.image.AxesImage at 0x7f96e18d80d0>"
      ]
     },
     "execution_count": 11,
     "metadata": {},
     "output_type": "execute_result"
    },
    {
     "data": {
      "image/png": "[encoded data removed]",
      "text/plain": [
       "<Figure size 432x288 with 1 Axes>"
      ]
     },
     "metadata": {
      "needs_background": "light"
     },
     "output_type": "display_data"
    },
    {
     "data": {
      "image/png": "[encoded data removed]",
      "text/plain": [
       "<Figure size 432x288 with 2 Axes>"
      ]
     },
     "metadata": {
      "needs_background": "light"
     },
     "output_type": "display_data"
    }
   ],
   "source": [
    "%matplotlib inline\n",
    "loss = []\n",
    "max = 100\n",
    "for data in loaded:\n",
    "    #print(data[0].shape)\n",
    "    print(f\"Training Batch {1000-max} / {max}\")\n",
    "    train_encoder(auto_encoder, data[0])\n",
    "    max -= 1\n",
    "    if max < 0:\n",
    "        break\n",
    "plt.plot(loss)\n",
    "plt.figure()\n",
    "image = next(d for d in loaded)[0][0].reshape(28, 28)\n",
    "plt.subplot(121)\n",
    "plt.imshow(image)\n",
    "plt.subplot(122)\n",
    "plt.imshow(auto_encoder.forward(image.reshape(1, 1, 28, 28)).detach().reshape(28, 28))"
   ]
  },
  {
   "cell_type": "code",
   "execution_count": null,
   "id": "89a97999-c0f7-455d-96d6-48a055a44b22",
   "metadata": {},
   "outputs": [],
   "source": []
  }
 ],
 "metadata": {
  "kernelspec": {
   "display_name": "Python 3 (ipykernel)",
   "language": "python",
   "name": "python3"
  },
  "language_info": {
   "codemirror_mode": {
    "name": "ipython",
    "version": 3
   },
   "file_extension": ".py",
   "mimetype": "text/x-python",
   "name": "python",
   "nbconvert_exporter": "python",
   "pygments_lexer": "ipython3",
   "version": "3.10.5"
  }
 },
 "nbformat": 4,
 "nbformat_minor": 5
}
